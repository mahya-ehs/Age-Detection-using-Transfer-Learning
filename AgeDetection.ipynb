{
  "cells": [
    {
      "cell_type": "markdown",
      "source": [
        "**Mahya Ehsanimehr (9812762327)**\n",
        "\n",
        "**Overview**\n",
        "\n",
        "for this task, I have used multiple approaches. It seems that using pretained model of ResNet18 works better than VGG16 and VGG-face weights.\n"
      ],
      "metadata": {
        "id": "hKeFUE8383BS"
      }
    },
    {
      "cell_type": "code",
      "execution_count": null,
      "metadata": {
        "id": "pz_VJI7oZDLn",
        "colab": {
          "base_uri": "https://localhost:8080/"
        },
        "outputId": "45e21e20-7b25-4b77-9e75-83b3d5996f3e"
      },
      "outputs": [
        {
          "output_type": "stream",
          "name": "stdout",
          "text": [
            "Drive already mounted at /content/drive; to attempt to forcibly remount, call drive.mount(\"/content/drive\", force_remount=True).\n"
          ]
        }
      ],
      "source": [
        "from google.colab import drive\n",
        "drive.mount('/content/drive')"
      ]
    },
    {
      "cell_type": "markdown",
      "metadata": {
        "id": "LxrLt3PJ4aY_"
      },
      "source": [
        "In this exercise we tend to predict the age of individuals with respect to the image of their face by transfer learnign."
      ]
    },
    {
      "cell_type": "code",
      "execution_count": null,
      "metadata": {
        "id": "B5xzh0ICIwSS"
      },
      "outputs": [],
      "source": [
        "import torch\n",
        "import torch.nn as nn\n",
        "import torch.optim as optim\n",
        "from torch.optim import lr_scheduler\n",
        "import torch.backends.cudnn as cudnn\n",
        "import numpy as np\n",
        "import torchvision\n",
        "from torchvision import datasets, models, transforms\n",
        "import matplotlib.pyplot as plt\n",
        "import time\n",
        "import os\n",
        "from PIL import Image\n",
        "from tempfile import TemporaryDirectory"
      ]
    },
    {
      "cell_type": "code",
      "execution_count": null,
      "metadata": {
        "colab": {
          "base_uri": "https://localhost:8080/"
        },
        "id": "eGiW754KI7KH",
        "outputId": "3e6783a7-b8ba-4e0a-c91c-39bc136cbce3"
      },
      "outputs": [
        {
          "output_type": "stream",
          "name": "stderr",
          "text": [
            "/usr/local/lib/python3.10/dist-packages/torch/utils/data/dataloader.py:557: UserWarning: This DataLoader will create 4 worker processes in total. Our suggested max number of worker in current system is 2, which is smaller than what this DataLoader is going to create. Please be aware that excessive worker creation might get DataLoader running slow or even freeze, lower the worker number to avoid potential slowness/freeze if necessary.\n",
            "  warnings.warn(_create_warning_msg(\n"
          ]
        }
      ],
      "source": [
        "# Transform on data\n",
        "data_transforms = {\n",
        "    'train': transforms.Compose([\n",
        "        transforms.RandomResizedCrop(224),\n",
        "        transforms.RandomHorizontalFlip(),\n",
        "        transforms.ToTensor(),\n",
        "        transforms.Normalize([0.485, 0.456, 0.406], [0.229, 0.224, 0.225]),\n",
        "        transforms.ColorJitter(),\n",
        "        transforms.RandomVerticalFlip()\n",
        "           ]),\n",
        "    'test': transforms.Compose([\n",
        "        transforms.Resize(256),\n",
        "        transforms.CenterCrop(224),\n",
        "        transforms.ToTensor(),\n",
        "        transforms.Normalize([0.485, 0.456, 0.406], [0.229, 0.224, 0.225])\n",
        "\n",
        "    ]),\n",
        "}\n",
        "\n",
        "# getting data\n",
        "data_dir = '/content/drive/MyDrive/datasets/Dataset'\n",
        "image_datasets = {x: datasets.ImageFolder(os.path.join(data_dir, x),\n",
        "                                          data_transforms[x])\n",
        "                  for x in ['train', 'test']}\n",
        "dataloaders = {x: torch.utils.data.DataLoader(image_datasets[x], batch_size=4,\n",
        "                                             shuffle=True, num_workers=4)\n",
        "              for x in ['train', 'test']}\n",
        "dataset_sizes = {x: len(image_datasets[x]) for x in ['train', 'test']}\n",
        "class_names = image_datasets['train'].classes\n",
        "\n",
        "device = torch.device(\"cuda:0\" if torch.cuda.is_available() else \"cpu\")"
      ]
    },
    {
      "cell_type": "markdown",
      "source": [
        "**VGG16 and VGG-face weights**\n",
        "\n",
        "here, I tried to use VGG16 as a pretrained model. And I also used VGG-face weights. However, I didn't get acceptable results. (the accuracy was fluctuating and under 30)"
      ],
      "metadata": {
        "id": "LUgCgnwTvXKV"
      }
    },
    {
      "cell_type": "markdown",
      "source": [
        "downloading the weights of VGG-face"
      ],
      "metadata": {
        "id": "go3mSgGhjl92"
      }
    },
    {
      "cell_type": "code",
      "execution_count": null,
      "metadata": {
        "colab": {
          "base_uri": "https://localhost:8080/"
        },
        "id": "kT_CDl-3gmTf",
        "outputId": "cc7caa0f-0fa7-41eb-f5f1-ce670f1236dc"
      },
      "outputs": [
        {
          "output_type": "stream",
          "name": "stdout",
          "text": [
            "--2024-01-08 16:22:56--  http://www.robots.ox.ac.uk/~albanie/models/pytorch-mcn/vgg_face_dag.pth\n",
            "Resolving www.robots.ox.ac.uk (www.robots.ox.ac.uk)... 129.67.94.2\n",
            "Connecting to www.robots.ox.ac.uk (www.robots.ox.ac.uk)|129.67.94.2|:80... connected.\n",
            "HTTP request sent, awaiting response... 301 Moved Permanently\n",
            "Location: https://www.robots.ox.ac.uk/~albanie/models/pytorch-mcn/vgg_face_dag.pth [following]\n",
            "--2024-01-08 16:22:56--  https://www.robots.ox.ac.uk/~albanie/models/pytorch-mcn/vgg_face_dag.pth\n",
            "Connecting to www.robots.ox.ac.uk (www.robots.ox.ac.uk)|129.67.94.2|:443... connected.\n",
            "HTTP request sent, awaiting response... 200 OK\n",
            "Length: 580015466 (553M)\n",
            "Saving to: ‘vgg_face_dag.pth.1’\n",
            "\n",
            "vgg_face_dag.pth.1  100%[===================>] 553.15M  29.0MB/s    in 20s     \n",
            "\n",
            "2024-01-08 16:23:17 (27.9 MB/s) - ‘vgg_face_dag.pth.1’ saved [580015466/580015466]\n",
            "\n"
          ]
        }
      ],
      "source": [
        "!wget http://www.robots.ox.ac.uk/~albanie/models/pytorch-mcn/vgg_face_dag.pth\n"
      ]
    },
    {
      "cell_type": "markdown",
      "source": [
        "I froze all layers except the last fully-connected."
      ],
      "metadata": {
        "id": "3xUv5G9V74Ar"
      }
    },
    {
      "cell_type": "code",
      "execution_count": null,
      "metadata": {
        "id": "Qvh71yyko5zz"
      },
      "outputs": [],
      "source": [
        "class VGG16Network(nn.Module):\n",
        "    def __init__(self):\n",
        "        super(VGG16Network, self).__init__()\n",
        "        self.vgg16_model = models.vgg16(pretrained=False)\n",
        "\n",
        "        vggface_weights = torch.load('/content/vgg_face_dag.pth')\n",
        "\n",
        "        self.vgg16_model.load_state_dict(vggface_weights, strict=False)\n",
        "\n",
        "        in_features = self.vgg16_model.classifier[6].in_features\n",
        "        self.vgg16_model.classifier[6] = nn.Linear(in_features, len(class_names))\n",
        "\n",
        "        for param in self.vgg16_model.parameters():\n",
        "            param.requires_grad = False\n",
        "\n",
        "        for param in self.vgg16_model.classifier[6].parameters():\n",
        "            param.requires_grad = True\n",
        "\n",
        "    def forward(self, x):\n",
        "        return self.vgg16_model(x)\n"
      ]
    },
    {
      "cell_type": "markdown",
      "source": [
        "**ResNet18**\n",
        "\n",
        "All layers of ResNet are froze (using requires_grad = Flase) except the last two fully-connected layers which I designed manually. I also put a ReLU between these two layers. The results are still fluctuating. I utilized many approaches, like using one fully-connected, changing learning rate, using momentum, but they weren't successful."
      ],
      "metadata": {
        "id": "8bFaMt5tjLSn"
      }
    },
    {
      "cell_type": "code",
      "execution_count": null,
      "metadata": {
        "id": "_j2KQtfRs3cJ"
      },
      "outputs": [],
      "source": [
        "class ResNet18Network(nn.Module):\n",
        "    def __init__(self):\n",
        "        super(ResNet18Network, self).__init__()\n",
        "        self.resnet = models.resnet18(pretrained=True)\n",
        "\n",
        "        for name, param in self.resnet.named_parameters():\n",
        "            if not name.startswith('fc'):\n",
        "                param.requires_grad = False\n",
        "\n",
        "        in_features = self.resnet.fc.in_features\n",
        "\n",
        "        self.resnet.fc = nn.Sequential(\n",
        "            nn.Linear(in_features, 512),\n",
        "            nn.ReLU(),\n",
        "            nn.Linear(512, len(class_names))\n",
        "        )\n",
        "\n",
        "    def forward(self, x):\n",
        "        x = self.resnet(x)\n",
        "        return x\n"
      ]
    },
    {
      "cell_type": "markdown",
      "source": [
        "**Train and Test Functions**"
      ],
      "metadata": {
        "id": "kx4EmUkhj6QW"
      }
    },
    {
      "cell_type": "code",
      "execution_count": null,
      "metadata": {
        "id": "4_WqCcUYal1t"
      },
      "outputs": [],
      "source": [
        "def train_model(model, criterion, optimizer, scheduler, num_epochs=25):\n",
        "    since = time.time()\n",
        "\n",
        "    # Create a temporary directory to save training checkpoints\n",
        "    with TemporaryDirectory() as tempdir:\n",
        "        best_model_params_path = os.path.join(tempdir, 'best_model_params.pt')\n",
        "\n",
        "        torch.save(model.state_dict(), best_model_params_path)\n",
        "        best_acc = 0.0\n",
        "\n",
        "        for epoch in range(num_epochs):\n",
        "            print(f'Epoch {epoch}/{num_epochs - 1}')\n",
        "            print('-' * 10)\n",
        "\n",
        "            # Each epoch has a training and validation phase\n",
        "            for phase in ['train', 'test']:\n",
        "                if phase == 'train':\n",
        "                    model.train()  # Set model to training mode\n",
        "                else:\n",
        "                    model.eval()   # Set model to evaluate mode\n",
        "\n",
        "                running_loss = 0.0\n",
        "                running_corrects = 0\n",
        "\n",
        "                # Iterate over data.\n",
        "                for inputs, labels in dataloaders[phase]:\n",
        "                    inputs = inputs.to(device)\n",
        "                    labels = labels.to(device)\n",
        "\n",
        "                    # zero the parameter gradients\n",
        "                    optimizer.zero_grad()\n",
        "\n",
        "                    # forward\n",
        "                    # track history if only in train\n",
        "                    with torch.set_grad_enabled(phase == 'train'):\n",
        "                        outputs = model(inputs)\n",
        "                        _, preds = torch.max(outputs, 1)\n",
        "                        loss = criterion(outputs, labels)\n",
        "\n",
        "                        # backward + optimize only if in training phase\n",
        "                        if phase == 'train':\n",
        "                            loss.backward()\n",
        "                            optimizer.step()\n",
        "\n",
        "                    # statistics\n",
        "                    running_loss += loss.item() * inputs.size(0)\n",
        "                    running_corrects += torch.sum(preds == labels.data)\n",
        "                if phase == 'train':\n",
        "                    scheduler.step()\n",
        "\n",
        "                epoch_loss = running_loss / dataset_sizes[phase]\n",
        "                epoch_acc = running_corrects.double() / dataset_sizes[phase] * 100\n",
        "\n",
        "                print(f'{phase} Loss: {epoch_loss:.4f} Acc: {epoch_acc:.4f}')\n",
        "\n",
        "                # deep copy the model\n",
        "                if phase == 'test' and epoch_acc > best_acc:\n",
        "                    best_acc = epoch_acc\n",
        "                    torch.save(model.state_dict(), best_model_params_path)\n",
        "\n",
        "            print()\n",
        "\n",
        "        time_elapsed = time.time() - since\n",
        "        print(f'Training complete in {time_elapsed // 60:.0f}m {time_elapsed % 60:.0f}s')\n",
        "        print(f'Best val Acc: {best_acc:4f}')\n",
        "\n",
        "        # load best model weights\n",
        "        model.load_state_dict(torch.load(best_model_params_path))\n",
        "    return model"
      ]
    },
    {
      "cell_type": "markdown",
      "source": [
        "**Build and Run Model**"
      ],
      "metadata": {
        "id": "7F0XVtuDkADO"
      }
    },
    {
      "cell_type": "markdown",
      "source": [
        "specifying the random seed to start from the same point every time."
      ],
      "metadata": {
        "id": "gAvjBw3h9JtO"
      }
    },
    {
      "cell_type": "code",
      "source": [
        "import numpy as np\n",
        "import random\n",
        "\n",
        "torch.manual_seed(42)\n",
        "np.random.seed(42)\n",
        "random.seed(42)\n",
        "if torch.cuda.is_available():\n",
        "    torch.cuda.manual_seed(42)\n",
        "    torch.cuda.manual_seed_all(42)"
      ],
      "metadata": {
        "id": "bCw_pXWc2Sge"
      },
      "execution_count": null,
      "outputs": []
    },
    {
      "cell_type": "markdown",
      "source": [
        "the results of ResNet18 (best test accuracy = 48)"
      ],
      "metadata": {
        "id": "3U3Q6pkN8fj5"
      }
    },
    {
      "cell_type": "code",
      "execution_count": null,
      "metadata": {
        "colab": {
          "base_uri": "https://localhost:8080/"
        },
        "id": "7V-Qqivv4aZD",
        "outputId": "5a26df7f-c07d-4f08-b1da-735bb82be74c"
      },
      "outputs": [
        {
          "output_type": "stream",
          "name": "stdout",
          "text": [
            "Epoch 0/49\n",
            "----------\n",
            "train Loss: 1.6444 Acc: 14.4000\n",
            "test Loss: 1.5700 Acc: 36.0000\n",
            "\n",
            "Epoch 1/49\n",
            "----------\n",
            "train Loss: 1.6447 Acc: 10.4000\n",
            "test Loss: 1.5402 Acc: 28.0000\n",
            "\n",
            "Epoch 2/49\n",
            "----------\n",
            "train Loss: 1.6198 Acc: 18.4000\n",
            "test Loss: 1.5489 Acc: 24.0000\n",
            "\n",
            "Epoch 3/49\n",
            "----------\n",
            "train Loss: 1.6239 Acc: 19.2000\n",
            "test Loss: 1.5447 Acc: 28.0000\n",
            "\n",
            "Epoch 4/49\n",
            "----------\n",
            "train Loss: 1.6162 Acc: 22.4000\n",
            "test Loss: 1.5412 Acc: 32.0000\n",
            "\n",
            "Epoch 5/49\n",
            "----------\n",
            "train Loss: 1.6103 Acc: 25.6000\n",
            "test Loss: 1.5423 Acc: 40.0000\n",
            "\n",
            "Epoch 6/49\n",
            "----------\n",
            "train Loss: 1.6249 Acc: 17.6000\n",
            "test Loss: 1.5377 Acc: 32.0000\n",
            "\n",
            "Epoch 7/49\n",
            "----------\n",
            "train Loss: 1.5860 Acc: 20.0000\n",
            "test Loss: 1.5461 Acc: 36.0000\n",
            "\n",
            "Epoch 8/49\n",
            "----------\n",
            "train Loss: 1.5929 Acc: 24.8000\n",
            "test Loss: 1.5428 Acc: 44.0000\n",
            "\n",
            "Epoch 9/49\n",
            "----------\n",
            "train Loss: 1.5742 Acc: 30.4000\n",
            "test Loss: 1.5305 Acc: 36.0000\n",
            "\n",
            "Epoch 10/49\n",
            "----------\n",
            "train Loss: 1.5938 Acc: 24.8000\n",
            "test Loss: 1.5471 Acc: 36.0000\n",
            "\n",
            "Epoch 11/49\n",
            "----------\n",
            "train Loss: 1.5843 Acc: 26.4000\n",
            "test Loss: 1.5331 Acc: 36.0000\n",
            "\n",
            "Epoch 12/49\n",
            "----------\n",
            "train Loss: 1.5941 Acc: 21.6000\n",
            "test Loss: 1.5415 Acc: 32.0000\n",
            "\n",
            "Epoch 13/49\n",
            "----------\n",
            "train Loss: 1.5938 Acc: 25.6000\n",
            "test Loss: 1.5495 Acc: 32.0000\n",
            "\n",
            "Epoch 14/49\n",
            "----------\n",
            "train Loss: 1.5876 Acc: 29.6000\n",
            "test Loss: 1.5446 Acc: 32.0000\n",
            "\n",
            "Epoch 15/49\n",
            "----------\n",
            "train Loss: 1.5842 Acc: 24.0000\n",
            "test Loss: 1.5413 Acc: 40.0000\n",
            "\n",
            "Epoch 16/49\n",
            "----------\n",
            "train Loss: 1.5852 Acc: 19.2000\n",
            "test Loss: 1.5398 Acc: 28.0000\n",
            "\n",
            "Epoch 17/49\n",
            "----------\n",
            "train Loss: 1.5982 Acc: 23.2000\n",
            "test Loss: 1.5392 Acc: 40.0000\n",
            "\n",
            "Epoch 18/49\n",
            "----------\n",
            "train Loss: 1.5804 Acc: 24.0000\n",
            "test Loss: 1.5359 Acc: 36.0000\n",
            "\n",
            "Epoch 19/49\n",
            "----------\n",
            "train Loss: 1.5963 Acc: 24.0000\n",
            "test Loss: 1.5372 Acc: 32.0000\n",
            "\n",
            "Epoch 20/49\n",
            "----------\n",
            "train Loss: 1.5906 Acc: 26.4000\n",
            "test Loss: 1.5331 Acc: 40.0000\n",
            "\n",
            "Epoch 21/49\n",
            "----------\n",
            "train Loss: 1.5772 Acc: 31.2000\n",
            "test Loss: 1.5454 Acc: 36.0000\n",
            "\n",
            "Epoch 22/49\n",
            "----------\n",
            "train Loss: 1.5904 Acc: 28.8000\n",
            "test Loss: 1.5360 Acc: 36.0000\n",
            "\n",
            "Epoch 23/49\n",
            "----------\n",
            "train Loss: 1.5861 Acc: 30.4000\n",
            "test Loss: 1.5395 Acc: 36.0000\n",
            "\n",
            "Epoch 24/49\n",
            "----------\n",
            "train Loss: 1.5877 Acc: 28.0000\n",
            "test Loss: 1.5333 Acc: 44.0000\n",
            "\n",
            "Epoch 25/49\n",
            "----------\n",
            "train Loss: 1.5914 Acc: 24.0000\n",
            "test Loss: 1.5352 Acc: 40.0000\n",
            "\n",
            "Epoch 26/49\n",
            "----------\n",
            "train Loss: 1.5882 Acc: 24.8000\n",
            "test Loss: 1.5502 Acc: 40.0000\n",
            "\n",
            "Epoch 27/49\n",
            "----------\n",
            "train Loss: 1.5797 Acc: 28.8000\n",
            "test Loss: 1.5421 Acc: 32.0000\n",
            "\n",
            "Epoch 28/49\n",
            "----------\n",
            "train Loss: 1.5748 Acc: 30.4000\n",
            "test Loss: 1.5513 Acc: 40.0000\n",
            "\n",
            "Epoch 29/49\n",
            "----------\n",
            "train Loss: 1.5907 Acc: 22.4000\n",
            "test Loss: 1.5401 Acc: 36.0000\n",
            "\n",
            "Epoch 30/49\n",
            "----------\n",
            "train Loss: 1.5768 Acc: 28.8000\n",
            "test Loss: 1.5446 Acc: 36.0000\n",
            "\n",
            "Epoch 31/49\n",
            "----------\n",
            "train Loss: 1.5933 Acc: 25.6000\n",
            "test Loss: 1.5322 Acc: 36.0000\n",
            "\n",
            "Epoch 32/49\n",
            "----------\n",
            "train Loss: 1.5821 Acc: 37.6000\n",
            "test Loss: 1.5217 Acc: 48.0000\n",
            "\n",
            "Epoch 33/49\n",
            "----------\n",
            "train Loss: 1.5728 Acc: 34.4000\n",
            "test Loss: 1.5399 Acc: 36.0000\n",
            "\n",
            "Epoch 34/49\n",
            "----------\n",
            "train Loss: 1.5839 Acc: 33.6000\n",
            "test Loss: 1.5420 Acc: 28.0000\n",
            "\n",
            "Epoch 35/49\n",
            "----------\n",
            "train Loss: 1.5861 Acc: 27.2000\n",
            "test Loss: 1.5402 Acc: 36.0000\n",
            "\n",
            "Epoch 36/49\n",
            "----------\n",
            "train Loss: 1.5925 Acc: 27.2000\n",
            "test Loss: 1.5359 Acc: 40.0000\n",
            "\n",
            "Epoch 37/49\n",
            "----------\n",
            "train Loss: 1.5801 Acc: 29.6000\n",
            "test Loss: 1.5377 Acc: 36.0000\n",
            "\n",
            "Epoch 38/49\n",
            "----------\n",
            "train Loss: 1.5910 Acc: 24.8000\n",
            "test Loss: 1.5426 Acc: 36.0000\n",
            "\n",
            "Epoch 39/49\n",
            "----------\n",
            "train Loss: 1.5889 Acc: 19.2000\n",
            "test Loss: 1.5371 Acc: 36.0000\n",
            "\n",
            "Epoch 40/49\n",
            "----------\n",
            "train Loss: 1.5735 Acc: 33.6000\n",
            "test Loss: 1.5513 Acc: 28.0000\n",
            "\n",
            "Epoch 41/49\n",
            "----------\n",
            "train Loss: 1.5790 Acc: 29.6000\n",
            "test Loss: 1.5484 Acc: 36.0000\n",
            "\n",
            "Epoch 42/49\n",
            "----------\n",
            "train Loss: 1.5826 Acc: 30.4000\n",
            "test Loss: 1.5457 Acc: 28.0000\n",
            "\n",
            "Epoch 43/49\n",
            "----------\n",
            "train Loss: 1.5765 Acc: 34.4000\n",
            "test Loss: 1.5437 Acc: 36.0000\n",
            "\n",
            "Epoch 44/49\n",
            "----------\n",
            "train Loss: 1.5900 Acc: 24.8000\n",
            "test Loss: 1.5410 Acc: 40.0000\n",
            "\n",
            "Epoch 45/49\n",
            "----------\n",
            "train Loss: 1.5687 Acc: 32.0000\n",
            "test Loss: 1.5508 Acc: 32.0000\n",
            "\n",
            "Epoch 46/49\n",
            "----------\n",
            "train Loss: 1.5932 Acc: 28.8000\n",
            "test Loss: 1.5374 Acc: 36.0000\n",
            "\n",
            "Epoch 47/49\n",
            "----------\n",
            "train Loss: 1.5827 Acc: 28.8000\n",
            "test Loss: 1.5459 Acc: 32.0000\n",
            "\n",
            "Epoch 48/49\n",
            "----------\n",
            "train Loss: 1.6038 Acc: 20.0000\n",
            "test Loss: 1.5456 Acc: 28.0000\n",
            "\n",
            "Epoch 49/49\n",
            "----------\n",
            "train Loss: 1.5800 Acc: 29.6000\n",
            "test Loss: 1.5344 Acc: 40.0000\n",
            "\n",
            "Training complete in 15m 4s\n",
            "Best val Acc: 48.000000\n"
          ]
        },
        {
          "output_type": "execute_result",
          "data": {
            "text/plain": [
              "ResNet18Network(\n",
              "  (resnet): ResNet(\n",
              "    (conv1): Conv2d(3, 64, kernel_size=(7, 7), stride=(2, 2), padding=(3, 3), bias=False)\n",
              "    (bn1): BatchNorm2d(64, eps=1e-05, momentum=0.1, affine=True, track_running_stats=True)\n",
              "    (relu): ReLU(inplace=True)\n",
              "    (maxpool): MaxPool2d(kernel_size=3, stride=2, padding=1, dilation=1, ceil_mode=False)\n",
              "    (layer1): Sequential(\n",
              "      (0): BasicBlock(\n",
              "        (conv1): Conv2d(64, 64, kernel_size=(3, 3), stride=(1, 1), padding=(1, 1), bias=False)\n",
              "        (bn1): BatchNorm2d(64, eps=1e-05, momentum=0.1, affine=True, track_running_stats=True)\n",
              "        (relu): ReLU(inplace=True)\n",
              "        (conv2): Conv2d(64, 64, kernel_size=(3, 3), stride=(1, 1), padding=(1, 1), bias=False)\n",
              "        (bn2): BatchNorm2d(64, eps=1e-05, momentum=0.1, affine=True, track_running_stats=True)\n",
              "      )\n",
              "      (1): BasicBlock(\n",
              "        (conv1): Conv2d(64, 64, kernel_size=(3, 3), stride=(1, 1), padding=(1, 1), bias=False)\n",
              "        (bn1): BatchNorm2d(64, eps=1e-05, momentum=0.1, affine=True, track_running_stats=True)\n",
              "        (relu): ReLU(inplace=True)\n",
              "        (conv2): Conv2d(64, 64, kernel_size=(3, 3), stride=(1, 1), padding=(1, 1), bias=False)\n",
              "        (bn2): BatchNorm2d(64, eps=1e-05, momentum=0.1, affine=True, track_running_stats=True)\n",
              "      )\n",
              "    )\n",
              "    (layer2): Sequential(\n",
              "      (0): BasicBlock(\n",
              "        (conv1): Conv2d(64, 128, kernel_size=(3, 3), stride=(2, 2), padding=(1, 1), bias=False)\n",
              "        (bn1): BatchNorm2d(128, eps=1e-05, momentum=0.1, affine=True, track_running_stats=True)\n",
              "        (relu): ReLU(inplace=True)\n",
              "        (conv2): Conv2d(128, 128, kernel_size=(3, 3), stride=(1, 1), padding=(1, 1), bias=False)\n",
              "        (bn2): BatchNorm2d(128, eps=1e-05, momentum=0.1, affine=True, track_running_stats=True)\n",
              "        (downsample): Sequential(\n",
              "          (0): Conv2d(64, 128, kernel_size=(1, 1), stride=(2, 2), bias=False)\n",
              "          (1): BatchNorm2d(128, eps=1e-05, momentum=0.1, affine=True, track_running_stats=True)\n",
              "        )\n",
              "      )\n",
              "      (1): BasicBlock(\n",
              "        (conv1): Conv2d(128, 128, kernel_size=(3, 3), stride=(1, 1), padding=(1, 1), bias=False)\n",
              "        (bn1): BatchNorm2d(128, eps=1e-05, momentum=0.1, affine=True, track_running_stats=True)\n",
              "        (relu): ReLU(inplace=True)\n",
              "        (conv2): Conv2d(128, 128, kernel_size=(3, 3), stride=(1, 1), padding=(1, 1), bias=False)\n",
              "        (bn2): BatchNorm2d(128, eps=1e-05, momentum=0.1, affine=True, track_running_stats=True)\n",
              "      )\n",
              "    )\n",
              "    (layer3): Sequential(\n",
              "      (0): BasicBlock(\n",
              "        (conv1): Conv2d(128, 256, kernel_size=(3, 3), stride=(2, 2), padding=(1, 1), bias=False)\n",
              "        (bn1): BatchNorm2d(256, eps=1e-05, momentum=0.1, affine=True, track_running_stats=True)\n",
              "        (relu): ReLU(inplace=True)\n",
              "        (conv2): Conv2d(256, 256, kernel_size=(3, 3), stride=(1, 1), padding=(1, 1), bias=False)\n",
              "        (bn2): BatchNorm2d(256, eps=1e-05, momentum=0.1, affine=True, track_running_stats=True)\n",
              "        (downsample): Sequential(\n",
              "          (0): Conv2d(128, 256, kernel_size=(1, 1), stride=(2, 2), bias=False)\n",
              "          (1): BatchNorm2d(256, eps=1e-05, momentum=0.1, affine=True, track_running_stats=True)\n",
              "        )\n",
              "      )\n",
              "      (1): BasicBlock(\n",
              "        (conv1): Conv2d(256, 256, kernel_size=(3, 3), stride=(1, 1), padding=(1, 1), bias=False)\n",
              "        (bn1): BatchNorm2d(256, eps=1e-05, momentum=0.1, affine=True, track_running_stats=True)\n",
              "        (relu): ReLU(inplace=True)\n",
              "        (conv2): Conv2d(256, 256, kernel_size=(3, 3), stride=(1, 1), padding=(1, 1), bias=False)\n",
              "        (bn2): BatchNorm2d(256, eps=1e-05, momentum=0.1, affine=True, track_running_stats=True)\n",
              "      )\n",
              "    )\n",
              "    (layer4): Sequential(\n",
              "      (0): BasicBlock(\n",
              "        (conv1): Conv2d(256, 512, kernel_size=(3, 3), stride=(2, 2), padding=(1, 1), bias=False)\n",
              "        (bn1): BatchNorm2d(512, eps=1e-05, momentum=0.1, affine=True, track_running_stats=True)\n",
              "        (relu): ReLU(inplace=True)\n",
              "        (conv2): Conv2d(512, 512, kernel_size=(3, 3), stride=(1, 1), padding=(1, 1), bias=False)\n",
              "        (bn2): BatchNorm2d(512, eps=1e-05, momentum=0.1, affine=True, track_running_stats=True)\n",
              "        (downsample): Sequential(\n",
              "          (0): Conv2d(256, 512, kernel_size=(1, 1), stride=(2, 2), bias=False)\n",
              "          (1): BatchNorm2d(512, eps=1e-05, momentum=0.1, affine=True, track_running_stats=True)\n",
              "        )\n",
              "      )\n",
              "      (1): BasicBlock(\n",
              "        (conv1): Conv2d(512, 512, kernel_size=(3, 3), stride=(1, 1), padding=(1, 1), bias=False)\n",
              "        (bn1): BatchNorm2d(512, eps=1e-05, momentum=0.1, affine=True, track_running_stats=True)\n",
              "        (relu): ReLU(inplace=True)\n",
              "        (conv2): Conv2d(512, 512, kernel_size=(3, 3), stride=(1, 1), padding=(1, 1), bias=False)\n",
              "        (bn2): BatchNorm2d(512, eps=1e-05, momentum=0.1, affine=True, track_running_stats=True)\n",
              "      )\n",
              "    )\n",
              "    (avgpool): AdaptiveAvgPool2d(output_size=(1, 1))\n",
              "    (fc): Sequential(\n",
              "      (0): Linear(in_features=512, out_features=512, bias=True)\n",
              "      (1): ReLU()\n",
              "      (2): Linear(in_features=512, out_features=5, bias=True)\n",
              "    )\n",
              "  )\n",
              ")"
            ]
          },
          "metadata": {},
          "execution_count": 10
        }
      ],
      "source": [
        "# create your model\n",
        "modified_model = ResNet18Network().to(device)\n",
        "\n",
        "# loss function\n",
        "loss = nn.CrossEntropyLoss()\n",
        "\n",
        "# optimizer\n",
        "optimizer = optim.SGD(params=modified_model.parameters() , lr= 0.001)\n",
        "exp_lr_scheduler = lr_scheduler.StepLR(optimizer, step_size=7, gamma=0.1)\n",
        "\n",
        "# training\n",
        "train_model(modified_model , loss , optimizer ,exp_lr_scheduler, num_epochs= 50)"
      ]
    },
    {
      "cell_type": "code",
      "source": [
        "pip install scikit-learn\n"
      ],
      "metadata": {
        "colab": {
          "base_uri": "https://localhost:8080/"
        },
        "id": "CeBIrTqp-iYI",
        "outputId": "e4f7857d-cd2f-4ed2-bda1-2af22234cbce"
      },
      "execution_count": null,
      "outputs": [
        {
          "output_type": "stream",
          "name": "stdout",
          "text": [
            "Requirement already satisfied: scikit-learn in /usr/local/lib/python3.10/dist-packages (1.2.2)\n",
            "Requirement already satisfied: numpy>=1.17.3 in /usr/local/lib/python3.10/dist-packages (from scikit-learn) (1.23.5)\n",
            "Requirement already satisfied: scipy>=1.3.2 in /usr/local/lib/python3.10/dist-packages (from scikit-learn) (1.11.4)\n",
            "Requirement already satisfied: joblib>=1.1.1 in /usr/local/lib/python3.10/dist-packages (from scikit-learn) (1.3.2)\n",
            "Requirement already satisfied: threadpoolctl>=2.0.0 in /usr/local/lib/python3.10/dist-packages (from scikit-learn) (3.2.0)\n"
          ]
        }
      ]
    },
    {
      "cell_type": "markdown",
      "source": [
        "I also plotted the confusion matrix of my model to see where the most problem is. And it seems that the model has issues in detecting the age of elderly people (51-60).\n",
        "I believe that these issues could h"
      ],
      "metadata": {
        "id": "4QnZUPwI_Thm"
      }
    },
    {
      "cell_type": "code",
      "source": [
        "from sklearn.metrics import confusion_matrix\n",
        "import seaborn as sns\n",
        "import matplotlib.pyplot as plt\n",
        "import numpy as np\n",
        "import torch\n",
        "from torch.autograd import Variable\n",
        "\n",
        "def evaluate_model(model, dataloader):\n",
        "    model.eval()\n",
        "    all_preds = []\n",
        "    all_labels = []\n",
        "\n",
        "    with torch.no_grad():\n",
        "        for inputs, labels in dataloader:\n",
        "            inputs = Variable(inputs).to(device)\n",
        "            labels = labels.to(device)\n",
        "\n",
        "            outputs = model(inputs)\n",
        "            _, preds = torch.max(outputs, 1)\n",
        "\n",
        "            all_preds.extend(preds.cpu().numpy())\n",
        "            all_labels.extend(labels.cpu().numpy())\n",
        "\n",
        "    return all_preds, all_labels\n",
        "\n",
        "val_preds, val_labels = evaluate_model(modified_model, dataloaders['test'])\n",
        "conf_matrix = confusion_matrix(val_labels, val_preds)\n",
        "\n",
        "plt.figure(figsize=(8, 8))\n",
        "sns.heatmap(conf_matrix, annot=True, fmt='d', cmap='Blues', xticklabels=class_names, yticklabels=class_names)\n",
        "plt.title('Confusion Matrix')\n",
        "plt.xlabel('Predicted')\n",
        "plt.ylabel('Actual')\n",
        "plt.show()"
      ],
      "metadata": {
        "colab": {
          "base_uri": "https://localhost:8080/",
          "height": 773
        },
        "id": "b49NO950-j_I",
        "outputId": "c1937476-21ab-4966-ce16-8a82ac43428d"
      },
      "execution_count": null,
      "outputs": [
        {
          "output_type": "stream",
          "name": "stderr",
          "text": [
            "/usr/local/lib/python3.10/dist-packages/torch/utils/data/dataloader.py:557: UserWarning: This DataLoader will create 4 worker processes in total. Our suggested max number of worker in current system is 2, which is smaller than what this DataLoader is going to create. Please be aware that excessive worker creation might get DataLoader running slow or even freeze, lower the worker number to avoid potential slowness/freeze if necessary.\n",
            "  warnings.warn(_create_warning_msg(\n"
          ]
        },
        {
          "output_type": "display_data",
          "data": {
            "text/plain": [
              "<Figure size 800x800 with 2 Axes>"
            ],
            "image/png": "[encoded data removed]"
          },
          "metadata": {}
        }
      ]
    }
  ],
  "metadata": {
    "accelerator": "GPU",
    "colab": {
      "provenance": []
    },
    "kernelspec": {
      "display_name": "Python 3 (ipykernel)",
      "language": "python",
      "name": "python3"
    },
    "language_info": {
      "codemirror_mode": {
        "name": "ipython",
        "version": 3
      },
      "file_extension": ".py",
      "mimetype": "text/x-python",
      "name": "python",
      "nbconvert_exporter": "python",
      "pygments_lexer": "ipython3",
      "version": "3.10.12"
    }
  },
  "nbformat": 4,
  "nbformat_minor": 0
}